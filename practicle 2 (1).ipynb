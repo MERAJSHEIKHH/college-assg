{
 "cells": [
  {
   "cell_type": "markdown",
   "id": "8bbd4556-b6da-4169-8a76-4a8d55454c05",
   "metadata": {},
   "source": [
    "# Write a program to create two numpy arrays and two lists, each comprising 10,000 elements. Show that numpy arrays are storage efficient than Python lists and summation of two numpy arrays is computationally efficient than summation of two lists."
   ]
  },
  {
   "cell_type": "code",
   "execution_count": 5,
   "id": "6639132c-6e45-45ee-9b61-d36e8627c6a1",
   "metadata": {},
   "outputs": [],
   "source": []
  },
  {
   "cell_type": "code",
   "execution_count": 43,
   "id": "678f521a-885d-42b1-8ff5-33c0d8fe7f2b",
   "metadata": {},
   "outputs": [
    {
     "name": "stdout",
     "output_type": "stream",
     "text": [
      "Size of numpy arrays: 160000 bytes\n",
      "Size of lists: 160080 bytes\n",
      "NumPy arrays are 1.00 times more storage efficient\n",
      "\n",
      "Time taken for numpy array summation: 9.942054748535156e-05 seconds\n",
      "Time taken for list summation: 0.0014116764068603516 seconds\n",
      "NumPy array summation is 14.20 times faster\n"
     ]
    }
   ],
   "source": [
    "import numpy as np\n",
    "import time\n",
    "\n",
    "# Create two numpy arrays with 10,000 elements each\n",
    "numpy_array1 = np.random.rand(10000)\n",
    "numpy_array2 = np.random.rand(10000)\n",
    "\n",
    "# Create two lists with 10,000 elements each\n",
    "list1 = list(numpy_array1)\n",
    "list2 = list(numpy_array2)\n",
    "\n",
    "# Measure storage efficiency\n",
    "numpy_array_size = numpy_array1.nbytes + numpy_array2.nbytes\n",
    "list_size = list1.__sizeof__() + list2.__sizeof__()\n",
    "\n",
    "print(f\"Size of numpy arrays: {numpy_array_size} bytes\")\n",
    "print(f\"Size of lists: {list_size} bytes\")\n",
    "print(f\"NumPy arrays are {list_size / numpy_array_size:.2f} times more storage efficient\")\n",
    "\n",
    "# Measure computational efficiency for summation\n",
    "start_time = time.time()\n",
    "numpy_sum = numpy_array1 + numpy_array2\n",
    "numpy_time = time.time() - start_time\n",
    "\n",
    "start_time = time.time()\n",
    "list_sum = [a + b for a, b in zip(list1, list2)]\n",
    "list_time = time.time() - start_time\n",
    "\n",
    "print(f\"\\nTime taken for numpy array summation: {numpy_time} seconds\")\n",
    "print(f\"Time taken for list summation: {list_time} seconds\")\n",
    "print(f\"NumPy array summation is {list_time / numpy_time:.2f} times faster\")\n"
   ]
  }
 ],
 "metadata": {
  "kernelspec": {
   "display_name": "Python 3 (ipykernel)",
   "language": "python",
   "name": "python3"
  },
  "language_info": {
   "codemirror_mode": {
    "name": "ipython",
    "version": 3
   },
   "file_extension": ".py",
   "mimetype": "text/x-python",
   "name": "python",
   "nbconvert_exporter": "python",
   "pygments_lexer": "ipython3",
   "version": "3.10.8"
  }
 },
 "nbformat": 4,
 "nbformat_minor": 5
}
