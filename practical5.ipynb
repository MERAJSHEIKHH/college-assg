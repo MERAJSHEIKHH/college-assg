{
 "cells": [
  {
   "cell_type": "markdown",
   "id": "9b3a5b88-f09b-496d-aee1-e927525ac460",
   "metadata": {},
   "source": [
    "# practicAL 5"
   ]
  },
  {
   "cell_type": "markdown",
   "id": "0f1529f3-950f-4660-9acb-73974ae601e9",
   "metadata": {},
   "source": [
    "# a.\tCreate a series from a dictionary representing the count of students in each class X, XI, and XII  as given below. \n",
    "## dictionary = { 'XII' : 25, 'XI' : 30, 'X' : 50 }\n",
    "## Display the series \n",
    "## i) sorted on the index \n",
    "## ii) sorted on values"
   ]
  },
  {
   "cell_type": "code",
   "execution_count": 11,
   "id": "c1ee4af7-117a-4ab9-89a3-85fa0228534f",
   "metadata": {},
   "outputs": [
    {
     "name": "stdout",
     "output_type": "stream",
     "text": [
      "Sorted on index:\n",
      "X      30\n",
      "XI     20\n",
      "XII    25\n",
      "dtype: int64\n",
      "\n",
      "Sorted on values:\n",
      "XI     20\n",
      "XII    25\n",
      "X      30\n",
      "dtype: int64\n"
     ]
    }
   ],
   "source": [
    "import pandas as pd\n",
    "\n",
    "# Define the dictionary\n",
    "dictionary = {'XII': 25, 'X': 30, 'XI': 20}   # this is giving key data in sequence\n",
    "\n",
    "# Create the series\n",
    "student_series = pd.Series(dictionary)\n",
    "\n",
    "# Display the series sorted on index\n",
    "sorted_by_index = student_series.sort_index()\n",
    "print(\"Sorted on index:\")\n",
    "print(sorted_by_index)\n",
    "\n",
    "# Display the series sorted on values\n",
    "sorted_by_values = student_series.sort_values()      # this will give data in ascending order values\n",
    "print(\"\\nSorted on values:\")\n",
    "print(sorted_by_values)\n"
   ]
  },
  {
   "cell_type": "markdown",
   "id": "cc9253ea-a569-4e31-87b3-519ae6d09629",
   "metadata": {},
   "source": [
    "# b.\tCreate a series from the numpy array of 10 randomly generated values. Find maximum and minimum values and their positions. "
   ]
  },
  {
   "cell_type": "code",
   "execution_count": 2,
   "id": "18785dff-1eca-43ef-8d99-4900d7efd759",
   "metadata": {},
   "outputs": [
    {
     "name": "stdout",
     "output_type": "stream",
     "text": [
      "0    39\n",
      "1    52\n",
      "2    20\n",
      "3    37\n",
      "4     8\n",
      "5    62\n",
      "6    35\n",
      "7    54\n",
      "8    36\n",
      "9    76\n",
      "dtype: int64\n",
      "max value in the series is : 76 and the index of max is: 9 \n",
      "min value in the series is : 76 and the index of min  is: 4 \n"
     ]
    }
   ],
   "source": [
    "import numpy as np \n",
    "import pandas as pd\n",
    "\n",
    "# generating random numbers btw 1 to 1000\n",
    "rand_num=np.random.randint(1,100,size=10)\n",
    "# providing index for the num\n",
    "#label=['a', 'b', 'c', 'd', 'e',\"f\",\"g\",\"h\",\"i\",\"j\"]\n",
    "\n",
    "# making series \n",
    "series=pd.Series(rand_num)\n",
    "\n",
    "# finding max value and the positon \n",
    "max_value=series.max()\n",
    "max_position= series.idxmax()\n",
    "\n",
    "\n",
    "# finding min value and the position \n",
    "\n",
    "min_value= series.min()\n",
    "min_positions= series.idxmin()\n",
    "print(series)\n",
    "print(f\"max value in the series is : {max_value} and the index of max is: {max_position} \")\n",
    "print(f\"min value in the series is : {max_value} and the index of min  is: {min_positions} \")"
   ]
  },
  {
   "cell_type": "markdown",
   "id": "de0bc5da-b248-4a4c-9c92-2a0d64c93f2b",
   "metadata": {},
   "source": [
    "# c.\tCreate a series as shown below with days of the week as index labels and forecasted maximum temperature as their associated values:\n"
   ]
  },
  {
   "cell_type": "raw",
   "id": "53c7eefd-99dd-463f-93f8-fe6289db24fd",
   "metadata": {},
   "source": [
    "c.\tCreate a series as shown below with days of the week as index labels and forecasted maximum temperature as their associated values:\n",
    "\n",
    "Monday\t25\n",
    "Tuesday\t40\n",
    "Wednesday\t18\n",
    "Thursday\t27\n",
    "Friday\t32\n",
    "Saturday\t39\n",
    "Sunday\t28\n",
    "\n",
    "Retrieve the temperature of the 4th day of the week as well as Tuesday.  \n"
   ]
  },
  {
   "cell_type": "code",
   "execution_count": 36,
   "id": "fa0d95d3-9ffd-4846-98b2-fe90659b325e",
   "metadata": {},
   "outputs": [
    {
     "name": "stdout",
     "output_type": "stream",
     "text": [
      " temperature on 4 day is 27\n",
      " temperature on tuesday  is 40\n",
      "the day on which the tewmperature is maximum is 40 and the value is Tuesday\n"
     ]
    }
   ],
   "source": [
    "import pandas as pd \n",
    "\n",
    "\n",
    "# providing data \n",
    "temperature_data={'Monday': 25, 'Tuesday': 40, 'Wednesday': 18, 'Thursday': 27, 'Friday': 32, 'Saturday': 39, 'Sunday': 28}\n",
    "\n",
    "# making series\n",
    "temperature_series=pd.Series(temperature_data)\n",
    "\n",
    "\n",
    "# finding max temp and the day\n",
    "max_tem=temperature_series.max()\n",
    "position=temperature_series.idxmax()\n",
    "\n",
    "# finding 4th day temp \n",
    "temperature_4th_day=temperature_series.iloc[3]\n",
    "\n",
    "# finding tues tem\n",
    "\n",
    "tues_temp=temperature_series.iloc[1]\n",
    "print(f\" temperature on 4 day is {temperature_4th_day}\")\n",
    "print(f\" temperature on tuesday  is {tues_temp}\")\n",
    "print(f\"the day on which the tewmperature is maximum is {max_tem} and the value is {position}\")\n",
    "\n"
   ]
  },
  {
   "cell_type": "raw",
   "id": "90bb1698-0a03-4ab3-b2c3-ad7d4c77e444",
   "metadata": {},
   "source": [
    "d.\tCreate two data frames for storing the results of class X students of sections A and B, where each dataframe comprises the following details: name, percentage, and qualifying status in preboard exams.\n",
    "\n",
    "                     Section A                                                   Section B                                                       \n",
    "\tName \tPercentage\tQualify\n",
    "0\tAroma\t79.5\tyes\n",
    "1\tKiran\t29.0\tno\n",
    "2\tRayan\t90.5\tyes\n",
    "3\tRohan\tNaN\tno\n",
    "4\tAmit\t32.0\tno\n",
    "5\tYash\t65.0\tyes\n",
    "6\tMona\t56.0\tyes\n",
    "7\tKartik\tNaN\tNaN\n",
    "8\tKavita\t29.0\tno\n",
    "9\tPooja\t89.0\tNan\n",
    "\t\tName \tPercentage\tQualify\n",
    "0\tParveen\t89.5\tyes\n",
    "1\tAhil\t92.0\tyes\n",
    "2\tShaila\t90.5\tyes\n",
    "3\tShruti\t91.5\tyes\n",
    "4\tMark\t90.0\tyes"
   ]
  },
  {
   "cell_type": "code",
   "execution_count": 13,
   "id": "d65b71d6-270c-4e22-a267-00f63b83f9d7",
   "metadata": {},
   "outputs": [
    {
     "name": "stdout",
     "output_type": "stream",
     "text": [
      "section A\n",
      "     name Percentage qualify\n",
      "0   Aroma       79.5     yes\n",
      "1   Kiran       29.0      no\n",
      "2    Raya       90.5     yes\n",
      "3   Rohan        nan      no\n",
      "4    Amit       32.0      no\n",
      "5    Yash       65.0     yes\n",
      "6    Mona       56.0     yes\n",
      "7  Kartik        nan      an\n",
      "8  Kavita       29.0      no\n",
      "9   Pooja       89.0     nan\n",
      "section B\n",
      "      name  Percentage qualify\n",
      "0  Parveen        89.5     yes\n",
      "1     Ahil        92.0     yes\n",
      "2   Shaila        90.5     yes\n",
      "3   Shruti        91.5     yes\n",
      "4     Mark        90.0     yes\n"
     ]
    }
   ],
   "source": [
    "import pandas as pd\n",
    "import numpy as np\n",
    "\n",
    "# data for section a \n",
    "\n",
    "section_a_data={\"name\": [\"Aroma\",\"Kiran\",\"Raya\",\"Rohan\",\"Amit\",\"Yash\",\"Mona\",\"Kartik\",\"Kavita\",\"Pooja\"],\n",
    "\n",
    "\"Percentage\":[79.5,29.0,90.5,\"nan\",32.0,65.0,56.0,\"nan\",29.0,89.0,],\n",
    "\n",
    "\"qualify\":[\"yes\",\"no\",\"yes\",\"no\",\"no\",\"yes\",\"yes\",\"an\",\"no\",\"nan\"]}\n",
    "\n",
    "\n",
    "# data for section b\n",
    "\n",
    "section_b_data = {\n",
    "    \"name\": [\"Parveen\", \"Ahil\", \"Shaila\", \"Shruti\", \"Mark\"],\n",
    "    \"Percentage\": [89.5, 92.0, 90.5, 91.5, 90.0],\n",
    "    \"qualify\": [\"yes\", \"yes\", \"yes\", \"yes\", \"yes\"]\n",
    "}\n",
    "\n",
    "# # creating data frames\n",
    "df_section_a=pd.DataFrame(section_a_data)\n",
    "df_section_b=pd.DataFrame(section_b_data)\n",
    "\n",
    "\n",
    "# printing data \n",
    "\n",
    "print(\"section A\")\n",
    "print(df_section_a)\n",
    "print(\"section B\")\n",
    "print(df_section_b)\n",
    "\n",
    "#f_section_a.query(\"Percentage>=80\")"
   ]
  },
  {
   "cell_type": "code",
   "execution_count": 9,
   "id": "5b8ba533-245e-47fd-a8f2-4f178820c146",
   "metadata": {},
   "outputs": [
    {
     "name": "stdout",
     "output_type": "stream",
     "text": [
      "Section A:\n",
      "     Name  Percentage Qualify\n",
      "0   Aroma        79.5     yes\n",
      "1   Kiran        29.0      no\n",
      "2   Rayan        90.5     yes\n",
      "3   Rohan         NaN      no\n",
      "4    Amit        32.0      no\n",
      "5    Yash        65.0     yes\n",
      "6    Mona        56.0     yes\n",
      "7  Kartik         NaN     NaN\n",
      "8  Kavita        29.0      no\n",
      "9   Pooja        89.0     NaN\n",
      "\n",
      "Section B:\n",
      "      Name  Percentage Qualify\n",
      "0  Parveen        89.5     yes\n",
      "1     Ahil        92.0     yes\n",
      "2   Shaila        90.5     yes\n",
      "3   Shruti        91.5     yes\n",
      "4     Mark        90.0     yes\n"
     ]
    }
   ],
   "source": [
    "import pandas as pd\n",
    "import numpy as np\n",
    "\n",
    "# Define DataFrames for Section A and Section B\n",
    "section_a = {\n",
    "    \"Name\": [\"Aroma\", \"Kiran\", \"Rayan\", \"Rohan\", \"Amit\", \"Yash\", \"Mona\", \"Kartik\", \"Kavita\", \"Pooja\"],\n",
    "    \"Percentage\": [79.5, 29.0, 90.5, np.nan, 32.0, 65.0, 56.0, np.nan, 29.0, 89.0],\n",
    "    \"Qualify\": [\"yes\", \"no\", \"yes\", \"no\", \"no\", \"yes\", \"yes\", np.nan, \"no\", np.nan]\n",
    "}\n",
    "\n",
    "section_b = {\n",
    "    \"Name\": [\"Parveen\", \"Ahil\", \"Shaila\", \"Shruti\", \"Mark\"],\n",
    "    \"Percentage\": [89.5, 92.0, 90.5, 91.5, 90.0],\n",
    "    \"Qualify\": [\"yes\", \"yes\", \"yes\", \"yes\", \"yes\"]\n",
    "}\n",
    "\n",
    "# Create DataFrames for Section A and Section B\n",
    "df_section_a = pd.DataFrame(section_a)\n",
    "df_section_b = pd.DataFrame(section_b)\n",
    "\n",
    "# Display DataFrames for Section A and Section B\n",
    "print(\"Section A:\")\n",
    "print(df_section_a)\n",
    "\n",
    "print(\"\\nSection B:\")\n",
    "print(df_section_b)\n"
   ]
  },
  {
   "cell_type": "code",
   "execution_count": null,
   "id": "ce7cbd24-2a52-4c34-bc54-7542d368371a",
   "metadata": {},
   "outputs": [],
   "source": []
  },
  {
   "cell_type": "code",
   "execution_count": null,
   "id": "2e3bc559-f54c-490d-bb5a-04c4ec03feff",
   "metadata": {},
   "outputs": [],
   "source": []
  },
  {
   "cell_type": "code",
   "execution_count": null,
   "id": "f79ffef7-7338-434a-96e1-b7393b8bf9d4",
   "metadata": {},
   "outputs": [],
   "source": []
  },
  {
   "cell_type": "code",
   "execution_count": null,
   "id": "5a47037d-d6eb-4402-a86e-e5a9dd7f9ba3",
   "metadata": {},
   "outputs": [],
   "source": []
  },
  {
   "cell_type": "code",
   "execution_count": null,
   "id": "96623828-cea3-49b6-bdc8-3080bf777107",
   "metadata": {},
   "outputs": [],
   "source": []
  },
  {
   "cell_type": "markdown",
   "id": "c6f44dc6-832a-4042-8dc8-52b9e5cf172f",
   "metadata": {},
   "source": [
    "# e.\tMerge the dataframes created in the previous part of the question to obtain the combined result of class X students in preboard exams. "
   ]
  },
  {
   "cell_type": "code",
   "execution_count": 10,
   "id": "0bf56222-c10f-40de-8ef0-fa785f5c5fb5",
   "metadata": {},
   "outputs": [
    {
     "data": {
      "text/html": [
       "<div>\n",
       "<style scoped>\n",
       "    .dataframe tbody tr th:only-of-type {\n",
       "        vertical-align: middle;\n",
       "    }\n",
       "\n",
       "    .dataframe tbody tr th {\n",
       "        vertical-align: top;\n",
       "    }\n",
       "\n",
       "    .dataframe thead th {\n",
       "        text-align: right;\n",
       "    }\n",
       "</style>\n",
       "<table border=\"1\" class=\"dataframe\">\n",
       "  <thead>\n",
       "    <tr style=\"text-align: right;\">\n",
       "      <th></th>\n",
       "      <th>Name</th>\n",
       "      <th>Percentage</th>\n",
       "      <th>Qualify</th>\n",
       "    </tr>\n",
       "  </thead>\n",
       "  <tbody>\n",
       "    <tr>\n",
       "      <th>0</th>\n",
       "      <td>Aroma</td>\n",
       "      <td>79.5</td>\n",
       "      <td>yes</td>\n",
       "    </tr>\n",
       "    <tr>\n",
       "      <th>1</th>\n",
       "      <td>Kiran</td>\n",
       "      <td>29.0</td>\n",
       "      <td>no</td>\n",
       "    </tr>\n",
       "    <tr>\n",
       "      <th>2</th>\n",
       "      <td>Rayan</td>\n",
       "      <td>90.5</td>\n",
       "      <td>yes</td>\n",
       "    </tr>\n",
       "    <tr>\n",
       "      <th>3</th>\n",
       "      <td>Rohan</td>\n",
       "      <td>NaN</td>\n",
       "      <td>no</td>\n",
       "    </tr>\n",
       "    <tr>\n",
       "      <th>4</th>\n",
       "      <td>Amit</td>\n",
       "      <td>32.0</td>\n",
       "      <td>no</td>\n",
       "    </tr>\n",
       "    <tr>\n",
       "      <th>5</th>\n",
       "      <td>Yash</td>\n",
       "      <td>65.0</td>\n",
       "      <td>yes</td>\n",
       "    </tr>\n",
       "    <tr>\n",
       "      <th>6</th>\n",
       "      <td>Mona</td>\n",
       "      <td>56.0</td>\n",
       "      <td>yes</td>\n",
       "    </tr>\n",
       "    <tr>\n",
       "      <th>7</th>\n",
       "      <td>Kartik</td>\n",
       "      <td>NaN</td>\n",
       "      <td>NaN</td>\n",
       "    </tr>\n",
       "    <tr>\n",
       "      <th>8</th>\n",
       "      <td>Kavita</td>\n",
       "      <td>29.0</td>\n",
       "      <td>no</td>\n",
       "    </tr>\n",
       "    <tr>\n",
       "      <th>9</th>\n",
       "      <td>Pooja</td>\n",
       "      <td>89.0</td>\n",
       "      <td>NaN</td>\n",
       "    </tr>\n",
       "    <tr>\n",
       "      <th>0</th>\n",
       "      <td>Parveen</td>\n",
       "      <td>89.5</td>\n",
       "      <td>yes</td>\n",
       "    </tr>\n",
       "    <tr>\n",
       "      <th>1</th>\n",
       "      <td>Ahil</td>\n",
       "      <td>92.0</td>\n",
       "      <td>yes</td>\n",
       "    </tr>\n",
       "    <tr>\n",
       "      <th>2</th>\n",
       "      <td>Shaila</td>\n",
       "      <td>90.5</td>\n",
       "      <td>yes</td>\n",
       "    </tr>\n",
       "    <tr>\n",
       "      <th>3</th>\n",
       "      <td>Shruti</td>\n",
       "      <td>91.5</td>\n",
       "      <td>yes</td>\n",
       "    </tr>\n",
       "    <tr>\n",
       "      <th>4</th>\n",
       "      <td>Mark</td>\n",
       "      <td>90.0</td>\n",
       "      <td>yes</td>\n",
       "    </tr>\n",
       "  </tbody>\n",
       "</table>\n",
       "</div>"
      ],
      "text/plain": [
       "      Name  Percentage Qualify\n",
       "0    Aroma        79.5     yes\n",
       "1    Kiran        29.0      no\n",
       "2    Rayan        90.5     yes\n",
       "3    Rohan         NaN      no\n",
       "4     Amit        32.0      no\n",
       "5     Yash        65.0     yes\n",
       "6     Mona        56.0     yes\n",
       "7   Kartik         NaN     NaN\n",
       "8   Kavita        29.0      no\n",
       "9    Pooja        89.0     NaN\n",
       "0  Parveen        89.5     yes\n",
       "1     Ahil        92.0     yes\n",
       "2   Shaila        90.5     yes\n",
       "3   Shruti        91.5     yes\n",
       "4     Mark        90.0     yes"
      ]
     },
     "execution_count": 10,
     "metadata": {},
     "output_type": "execute_result"
    }
   ],
   "source": [
    "pd.concat([df_section_a,df_section_b])"
   ]
  },
  {
   "cell_type": "code",
   "execution_count": null,
   "id": "d6e39d83-6a1e-4861-bebe-9df976c1e710",
   "metadata": {},
   "outputs": [],
   "source": []
  },
  {
   "cell_type": "markdown",
   "id": "449364ac-7da0-43cc-97c9-23e28eb43f6c",
   "metadata": {},
   "source": [
    "# f.\tUse the resultant dataframe obtained above to filter out students with 80 percentage and above. Also, determine the count of students with missing data."
   ]
  },
  {
   "cell_type": "code",
   "execution_count": 12,
   "id": "c693bd3f-c263-44e7-807e-609455fd0eef",
   "metadata": {},
   "outputs": [
    {
     "name": "stdout",
     "output_type": "stream",
     "text": [
      "\n",
      "Students with 80 percentage and above in Section A:\n",
      "    Name  Percentage Qualify\n",
      "2  Rayan        90.5     yes\n",
      "9  Pooja        89.0     NaN\n",
      "\n",
      "Students with 80 percentage and above in Section B:\n",
      "      Name  Percentage Qualify\n",
      "0  Parveen        89.5     yes\n",
      "1     Ahil        92.0     yes\n",
      "2   Shaila        90.5     yes\n",
      "3   Shruti        91.5     yes\n",
      "4     Mark        90.0     yes\n",
      "\n",
      "Count of missing data in Section A: 4\n",
      "Count of missing data in Section B: 0\n"
     ]
    }
   ],
   "source": [
    "# Filter students with 80 percentage and above\n",
    "above_80_df_section_a = df_section_a.query(\"Percentage >= 80\")\n",
    "above_80_df_section_b = df_section_b.query('Percentage >= 80')\n",
    "\n",
    "# Determine the count of students with missing data\n",
    "missing_data_count_section_a = df_section_a.isna().sum().sum()\n",
    "missing_data_count_section_b = df_section_b.isna().sum().sum()\n",
    "\n",
    "# Display the results\n",
    "print(\"\\nStudents with 80 percentage and above in Section A:\")\n",
    "print(above_80_df_section_a)\n",
    "\n",
    "print(\"\\nStudents with 80 percentage and above in Section B:\")\n",
    "print(above_80_df_section_b)\n",
    "\n",
    "print(\"\\nCount of missing data in Section A:\", missing_data_count_section_a)\n",
    "print(\"Count of missing data in Section B:\", missing_data_count_section_b)\n"
   ]
  },
  {
   "cell_type": "code",
   "execution_count": null,
   "id": "97ec5b8f-e940-440e-bb54-195411978243",
   "metadata": {},
   "outputs": [],
   "source": []
  },
  {
   "cell_type": "code",
   "execution_count": null,
   "id": "e172f24a-087f-4dde-afeb-6416ef750d48",
   "metadata": {},
   "outputs": [],
   "source": []
  },
  {
   "cell_type": "code",
   "execution_count": null,
   "id": "8cab8ad8-f461-4357-8325-5b2681cb9ac6",
   "metadata": {},
   "outputs": [],
   "source": []
  },
  {
   "cell_type": "code",
   "execution_count": null,
   "id": "1522eb9f-a5d5-493d-9a57-4e1c25e960fe",
   "metadata": {},
   "outputs": [],
   "source": []
  },
  {
   "cell_type": "code",
   "execution_count": null,
   "id": "fb1778c4-afb3-4ddd-83be-3180787c41db",
   "metadata": {},
   "outputs": [],
   "source": []
  }
 ],
 "metadata": {
  "kernelspec": {
   "display_name": "Python 3 (ipykernel)",
   "language": "python",
   "name": "python3"
  },
  "language_info": {
   "codemirror_mode": {
    "name": "ipython",
    "version": 3
   },
   "file_extension": ".py",
   "mimetype": "text/x-python",
   "name": "python",
   "nbconvert_exporter": "python",
   "pygments_lexer": "ipython3",
   "version": "3.10.8"
  }
 },
 "nbformat": 4,
 "nbformat_minor": 5
}
