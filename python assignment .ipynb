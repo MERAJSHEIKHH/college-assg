{
 "cells": [
  {
   "cell_type": "markdown",
   "id": "1a8c1cd8-4c0d-48b3-974c-71b74cad9b26",
   "metadata": {},
   "source": [
    "# 1  write a program to create 3  by 3 identity metrix using numpy "
   ]
  },
  {
   "cell_type": "code",
   "execution_count": 7,
   "id": "0dee109b-09f3-4dda-9262-f689fdcd80d8",
   "metadata": {},
   "outputs": [
    {
     "name": "stdout",
     "output_type": "stream",
     "text": [
      "[[1. 0. 0.]\n",
      " [0. 1. 0.]\n",
      " [0. 0. 1.]]\n"
     ]
    }
   ],
   "source": [
    "import numpy as np\n",
    "\n",
    "\n",
    "identity_matrix = np.identity(3)\n",
    "\n",
    "print(identity_matrix)\n"
   ]
  },
  {
   "cell_type": "markdown",
   "id": "8816a4c6-e411-4bae-aa83-a94bb40a60ca",
   "metadata": {},
   "source": [
    "## 2 write a program to find a indices of the maximum and minimum value in a given array using numpy "
   ]
  },
  {
   "cell_type": "code",
   "execution_count": 28,
   "id": "25d96677-7be2-4bfd-8b05-2396aee9de92",
   "metadata": {},
   "outputs": [
    {
     "name": "stdout",
     "output_type": "stream",
     "text": [
      "my array is [ 4 15 12  1]\n",
      "index of maximum value is (array([1]),)\n",
      "index of min value is (array([3]),)\n"
     ]
    }
   ],
   "source": [
    "import numpy as np \n",
    "def find_max_value_index(x):\n",
    "    max_index=np.where(x==x.max())\n",
    "    return max_index\n",
    "\n",
    "def find_min_value_index(x):\n",
    "    min_index=np.where(x==x.min())\n",
    "    return min_index\n",
    "\n",
    "\n",
    "my_array= np.array([4,15,12,1])\n",
    "\n",
    "maxvalue=find_max_value_index(my_array)\n",
    "minvalue=find_min_value_index(my_array)\n",
    "\n",
    "print(f\"my array is {my_array}\")\n",
    "print(f\"index of maximum value is {maxvalue}\")\n",
    "print(f\"index of min value is {minvalue}\")"
   ]
  },
  {
   "cell_type": "code",
   "execution_count": null,
   "id": "1c2f5a39-8deb-4105-9999-9f76cc81a72f",
   "metadata": {},
   "outputs": [],
   "source": []
  },
  {
   "cell_type": "markdown",
   "id": "0df6e047-6996-4f2a-9eb2-7e2b97955a8d",
   "metadata": {},
   "source": [
    "## 3. create a ID random array comprising elements in range 1 to 100. compute the minimum,maximum,mean,median,standard deviation,unique value,and count of unique value"
   ]
  },
  {
   "cell_type": "code",
   "execution_count": 13,
   "id": "9f1ccbe7-b811-4466-ad01-de0252950fae",
   "metadata": {},
   "outputs": [
    {
     "name": "stdout",
     "output_type": "stream",
     "text": [
      "this is my data set[71 28 43 75 25 59 76 61  1 25 33 90 30 73 87 84 99 26 88 62  1 22 15 66\n",
      " 31 38  1 83 60 85 19 85  7 30 37 35 25 40 23  9 16  1 39 17 82 70  3 65\n",
      " 62 36]\n",
      "\n",
      "minimum value is : 1\n",
      "maximum value is : 99\n",
      " mean of the data is 44.78\n",
      "median of the data is 37.5\n",
      "std of the dataset is :28.840450759306798\n",
      "my unique dataset is : [ 1  3  7  9 15 16 17 19 22 23 25 26 28 30 31 33 35 36 37 38 39 40 43 59\n",
      " 60 61 62 65 66 70 71 73 75 76 82 83 84 85 87 88 90 99]\n",
      "count of unique data 50\n"
     ]
    }
   ],
   "source": [
    "import numpy as np \n",
    "\n",
    "# creating random data \n",
    "a = np.random.randint(1,100,50)\n",
    "\n",
    "\n",
    "print(f\"this is my data set{a}\\n\")\n",
    "\n",
    "#minnimum value \n",
    "print(\"minimum value is :\",a.min())\n",
    "\n",
    "# maximum value \n",
    "print(\"maximum value is :\",a.max())\n",
    "\n",
    "# mean or avg\n",
    "print(f\" mean of the data is {a.mean()}\")\n",
    "\n",
    "\n",
    "# median\n",
    "\n",
    "print(f\"median of the data is {np.median(a)}\")\n",
    "# standard deviation \n",
    "print(f\"std of the dataset is :{np.std(a)}\")\n",
    "\n",
    "\n",
    "#unique value\n",
    "unique_data,count = np.unique(a,return_counts=True)\n",
    "\n",
    "print(f\"my unique dataset is :\",unique_data)\n",
    "\n",
    "# count of \n",
    "\n",
    "\n",
    "print(\"count of unique data\",count.sum())            # not understand this \n",
    "\n"
   ]
  },
  {
   "cell_type": "code",
   "execution_count": null,
   "id": "ca3bfa61-85d1-404b-893a-4adb202334fa",
   "metadata": {},
   "outputs": [],
   "source": []
  },
  {
   "cell_type": "code",
   "execution_count": null,
   "id": "cbc44fa2-e646-4a70-97fd-4adc72e9e9fd",
   "metadata": {},
   "outputs": [],
   "source": []
  },
  {
   "cell_type": "code",
   "execution_count": null,
   "id": "6dde2b98-c79a-4e08-bed7-29864e203a86",
   "metadata": {},
   "outputs": [],
   "source": []
  },
  {
   "cell_type": "markdown",
   "id": "b02fdd96-0dd9-4129-ad3f-aa3e491055b5",
   "metadata": {},
   "source": [
    "# 4. write a program to create a shopping cart using a dictonary  in python .the program should allow users  to add items to the cart ,remove item from the cart ,and calculate the total price of all items in the cart "
   ]
  },
  {
   "cell_type": "code",
   "execution_count": 25,
   "id": "9fb57316-73b3-4077-956e-c1fc441d27fe",
   "metadata": {},
   "outputs": [
    {
     "name": "stdout",
     "output_type": "stream",
     "text": [
      "Item: Apple, Quantity: 5, Price: 0.99\n",
      "Item: Banana, Quantity: 10, Price: 0.5\n",
      "Item: Cherry, Quantity: 3, Price: 1.99\n",
      "Total Price:  15.919999999999998\n",
      "Item: Apple, Quantity: 5, Price: 0.99\n",
      "Item: Banana, Quantity: 10, Price: 0.5\n",
      "Updated Total Price:  9.95\n"
     ]
    }
   ],
   "source": [
    "class ShoppingCart:\n",
    "    def __init__(self):\n",
    "        self.cart = {}\n",
    "\n",
    "    def add_item(self, item, quantity, price):\n",
    "        if item in self.cart:\n",
    "            self.cart[item] = (self.cart[item][0] + quantity, self.cart[item][1])\n",
    "        else:\n",
    "            self.cart[item] = (quantity, price)\n",
    "\n",
    "    def remove_item(self, item):\n",
    "        if item in self.cart:\n",
    "            del self.cart[item]\n",
    "        else:\n",
    "            print(\"Item not found in cart\")\n",
    "\n",
    "    def calculate_total(self):\n",
    "        total = 0\n",
    "        for item in self.cart:\n",
    "            quantity, price = self.cart[item]\n",
    "            total += quantity * price\n",
    "        return total\n",
    "\n",
    "    def display_cart(self):\n",
    "        for item in self.cart:\n",
    "            quantity, price = self.cart[item]\n",
    "            print(f\"Item: {item}, Quantity: {quantity}, Price: {price}\")\n",
    "\n",
    "\n",
    "# Create an instance of the ShoppingCart class\n",
    "shopping_cart = ShoppingCart()\n",
    "\n",
    "# Add items to the cart\n",
    "shopping_cart.add_item(\"Apple\", 5, 0.99)\n",
    "shopping_cart.add_item(\"Banana\", 10, 0.50)\n",
    "shopping_cart.add_item(\"Cherry\", 3, 1.99)\n",
    "\n",
    "# Display the cart\n",
    "shopping_cart.display_cart()\n",
    "\n",
    "# Calculate and display the total price of all items in the cart\n",
    "total_price = shopping_cart.calculate_total()\n",
    "print(\"Total Price: \", total_price)\n",
    "\n",
    "# Remove an item from the cart\n",
    "shopping_cart.remove_item(\"Cherry\")\n",
    "\n",
    "# Display the updated cart\n",
    "shopping_cart.display_cart()\n",
    "\n",
    "# Calculate and display the updated total price of all items in the cart\n",
    "total_price = shopping_cart.calculate_total()\n",
    "print(\"Updated Total Price: \", total_price)"
   ]
  },
  {
   "cell_type": "markdown",
   "id": "3e7ddebd-3c8a-4827-9777-6c386a704d51",
   "metadata": {},
   "source": [
    "## 5, Write a Python program to create a new SQLite database and a table named &quot;students&quot; with columns for name, age, and grade."
   ]
  },
  {
   "cell_type": "code",
   "execution_count": 8,
   "id": "f90f64aa-42c2-4688-98e2-692b18e5e439",
   "metadata": {},
   "outputs": [],
   "source": [
    "import sqlite3\n",
    "\n",
    "\n",
    "conn = sqlite3.connect(':memory:')\n",
    "\n",
    "# Create a new table named \"students\" with columns for name, age, and grade\n",
    "\n",
    "conn.execute('''\n",
    "CREATE TABLE IF NOT EXISTS students (\n",
    "    name TEXT,\n",
    "    age INTEGER,\n",
    "    grade REAL\n",
    ")\n",
    "''')\n",
    "\n",
    "# Close the connection to the database\n",
    "conn.close()\n",
    "\n"
   ]
  },
  {
   "cell_type": "markdown",
   "id": "f3234971-346b-44dc-b6c7-e0855f562b8c",
   "metadata": {},
   "source": [
    "## 6. Give the output of the following python code consider mat as follows:\n",
    "* mat = np.array([[1,2,3], [4,5,6], [7,8,9]])\n",
    "* a. mat[0]\n",
    "* b. np.eye(3)*mat\n",
    "* c. mat[1:, 1:]\n",
    "* d. mat[: :-1] e. np.reshape(mat,(1,9))"
   ]
  },
  {
   "cell_type": "code",
   "execution_count": 5,
   "id": "8dc1f604-c05d-4164-8f03-75bb51ce2768",
   "metadata": {},
   "outputs": [
    {
     "name": "stdout",
     "output_type": "stream",
     "text": [
      "my array is \n",
      "\n",
      " [[1 2 3]\n",
      " [4 5 6]\n",
      " [7 8 9]]\n",
      "\n",
      " value of of mat[0] is : \n",
      "  [1 2 3]\n",
      "\n",
      "  value of np.eye(3)*mat is :\n",
      "   [[1. 0. 0.]\n",
      " [0. 5. 0.]\n",
      " [0. 0. 9.]]\n",
      "\n",
      " value of  mat[1:, 1:] is :\n",
      "  [[5 6]\n",
      " [8 9]]\n",
      "\n",
      "value of . mat[: :-1] is :\n",
      "  [[7 8 9]\n",
      " [4 5 6]\n",
      " [1 2 3]]\n",
      "\n",
      "reshape(mat,(1,9) )is : \n",
      "  [[1 2 3 4 5 6 7 8 9]]\n"
     ]
    }
   ],
   "source": [
    "import numpy as np \n",
    "mat = np.array([[1,2,3], [4,5,6], [7,8,9]])\n",
    "\n",
    "print(\"my array is \\n\\n\",mat)\n",
    "\n",
    "\n",
    "print(\"\\n value of of mat[0] is : \\n \",mat[0])\n",
    "\n",
    "\n",
    "print(f\"\\n  value of np.eye(3)*mat is :\\n  \",np.eye(3)*mat)\n",
    "\n",
    "\n",
    "print(\"\\n value of  mat[1:, 1:] is :\\n \", mat[1:, 1:])\n",
    "\n",
    "\n",
    "print(\"\\nvalue of . mat[: :-1] is :\\n \", mat[: :-1])\n",
    "\n",
    "print(f\"\\nreshape(mat,(1,9) )is : \\n \",np.reshape(mat,(1,9)))"
   ]
  },
  {
   "cell_type": "code",
   "execution_count": null,
   "id": "86167ec7-fb83-4a2c-9040-25c514911e02",
   "metadata": {},
   "outputs": [],
   "source": []
  },
  {
   "cell_type": "code",
   "execution_count": null,
   "id": "ea33f81d-4a3e-41ab-9799-47b07cf11e5e",
   "metadata": {},
   "outputs": [],
   "source": []
  },
  {
   "cell_type": "markdown",
   "id": "cb4df035-7888-4ded-9b51-cb98dfbd44bf",
   "metadata": {},
   "source": [
    "## 7. Write one-liner codes in python to perform the following tasks. Assume numpy has been imported as np\n",
    "* a. Create a 2D array called arr with random integers ranging from 10 to 35 with 4 rows and 5 columns.\n",
    "* b. Transpose the above array.\n",
    "* c. Divide each element in the above array by 5\n",
    "* d. Calculate the mean of each row of the above array.\n",
    "* e. Create a 2D array with all values as 8 as the same shape as in part b and add it to arr.\n",
    "* f. Show all the values in arr less than 18\n"
   ]
  },
  {
   "cell_type": "code",
   "execution_count": 51,
   "id": "f8e2d062-b03f-481b-8626-586acc0f2dbf",
   "metadata": {},
   "outputs": [
    {
     "name": "stdout",
     "output_type": "stream",
     "text": [
      "my array is\n",
      "\n",
      "[[16 29 24 20 17]\n",
      " [30 16 28 32 20]\n",
      " [20 33 30 13 17]\n",
      " [33 12 31 30 11]]\n",
      "\n",
      "this is trasposed array \n",
      " \n",
      " [[16 30 20 33]\n",
      " [29 16 33 12]\n",
      " [24 28 30 31]\n",
      " [20 32 13 30]\n",
      " [17 20 17 11]]\n",
      "\n",
      "this is my divided arraY \n",
      " \n",
      "[[2.2 6.6 2.6 4.8 2.2]\n",
      " [6.2 3.4 5.2 4.8 3.8]\n",
      " [3.2 5.  5.2 3.  2.4]\n",
      " [4.6 6.8 4.6 6.4 4.2]]\n",
      "\n",
      "row wise mean of my array data is [21.2 25.2 22.6 23.4]\n"
     ]
    }
   ],
   "source": [
    "#  a. Create a 2D array called arr with random integers ranging from 10 to 35 with 4 rows and 5 columns.\n",
    "\n",
    "import numpy as np \n",
    "\n",
    "np.random.seed(42)   # for same output of random no \n",
    "\n",
    "b=np.random.randint(10,35 ,size=(4,5))\n",
    "print(f\"my array is\\n\\n{b}\\n\")\n",
    "\n",
    "# b b. Transpose the above array.\n",
    "\n",
    "\n",
    "print(f\"this is trasposed array \\n \\n {np.transpose(b)}\\n\")\n",
    "\n",
    "#c. Divide each element in the above array by 5\n",
    "\n",
    "divided_array=a/5\n",
    "\n",
    "print(f\"this is my divided arraY \\n \\n{divided_array}\\n\")\n",
    "\n",
    "# d. Calculate the mean of each row of the above array.\n",
    "\n",
    "print(f\"row wise mean of my array data is\",b.mean(axis=1))"
   ]
  },
  {
   "cell_type": "code",
   "execution_count": 4,
   "id": "03352eba-d7a9-4718-9321-3b4311530339",
   "metadata": {},
   "outputs": [
    {
     "name": "stdout",
     "output_type": "stream",
     "text": [
      "Original 2D Array:\n",
      "[[29 26 32 10 32]\n",
      " [17 19 26 30 20]\n",
      " [35 16 29 17 30]\n",
      " [11 10 17 13 11]]\n",
      "\n",
      "2D Array with all values as 8:\n",
      "[[8 8 8 8 8]\n",
      " [8 8 8 8 8]\n",
      " [8 8 8 8 8]\n",
      " [8 8 8 8 8]]\n",
      "\n",
      "Resultant 2D Array after adding the arrays:\n",
      "[[37 34 40 18 40]\n",
      " [25 27 34 38 28]\n",
      " [43 24 37 25 38]\n",
      " [19 18 25 21 19]]\n",
      "\n",
      "Values less than 18:\n",
      "[10 17 16 17 11 10 17 13 11]\n"
     ]
    }
   ],
   "source": [
    "# e. Create a 2D array with all values as 8 as the same shape as in part b and add it to arr.\n",
    "\n",
    "\n",
    "\n",
    "import numpy as np\n",
    "\n",
    "\n",
    "arr = np.random.randint(10, 36, size=(4, 5))\n",
    "\n",
    "print(\"Original 2D Array:\")\n",
    "print(arr)\n",
    "\n",
    "\n",
    "arr_8 = np.full_like(arr, fill_value=8)\n",
    "\n",
    "print(\"\\n2D Array with all values as 8:\")\n",
    "print(arr_8)\n",
    "\n",
    "\n",
    "arr_sum = arr + arr_8\n",
    "\n",
    "print(\"\\nResultant 2D Array after adding the arrays:\")\n",
    "print(arr_sum)\n",
    "\n",
    "\n",
    "# f. Show all the values in arr less than 18\n",
    "\n",
    "\n",
    "filtered_value =arr[arr<18]\n",
    "print(\"\\nValues less than 18:\")\n",
    "print(filtered_value)"
   ]
  },
  {
   "cell_type": "code",
   "execution_count": null,
   "id": "b1315b21-19eb-48a9-a0c4-620bd6bd908e",
   "metadata": {},
   "outputs": [],
   "source": []
  }
 ],
 "metadata": {
  "kernelspec": {
   "display_name": "Python 3 (ipykernel)",
   "language": "python",
   "name": "python3"
  },
  "language_info": {
   "codemirror_mode": {
    "name": "ipython",
    "version": 3
   },
   "file_extension": ".py",
   "mimetype": "text/x-python",
   "name": "python",
   "nbconvert_exporter": "python",
   "pygments_lexer": "ipython3",
   "version": "3.10.8"
  }
 },
 "nbformat": 4,
 "nbformat_minor": 5
}
