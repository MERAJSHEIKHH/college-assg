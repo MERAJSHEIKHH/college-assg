{
 "cells": [
  {
   "cell_type": "markdown",
   "id": "ab0a10f1-b59c-4a6a-afdf-b6b45ed6cef8",
   "metadata": {},
   "source": [
    "# a.\tWrite a program to take age of 10 students from the user in a list. Determine the average age without using predefined functions."
   ]
  },
  {
   "cell_type": "code",
   "execution_count": null,
   "id": "6412bd5d-cfe1-4bb1-9e57-a82d4f6a0a83",
   "metadata": {},
   "outputs": [],
   "source": []
  },
  {
   "cell_type": "code",
   "execution_count": 5,
   "id": "4c64dc47-8ddd-4d57-913c-99ae99925421",
   "metadata": {},
   "outputs": [
    {
     "name": "stdin",
     "output_type": "stream",
     "text": [
      "Enter age of student 1:  20\n",
      "Enter age of student 2:  20\n",
      "Enter age of student 3:  10\n",
      "Enter age of student 4:  10\n",
      "Enter age of student 5:  10\n",
      "Enter age of student 6:  20\n",
      "Enter age of student 7:  20\n",
      "Enter age of student 8:  20\n",
      "Enter age of student 9:  30\n",
      "Enter age of student 10:  30\n"
     ]
    },
    {
     "name": "stdout",
     "output_type": "stream",
     "text": [
      "The average age of the students is: 19.0\n"
     ]
    }
   ],
   "source": [
    "# Initialize an empty list to store ages\n",
    "ages = []\n",
    "\n",
    "# Loop to input ages\n",
    "for i in range(10):\n",
    "    age = int(input(f\"Enter age of student {i+1}: \"))\n",
    "    ages.append(age)\n",
    "\n",
    "# Calculate the sum of ages\n",
    "sum_of_ages = 0\n",
    "for age in ages:\n",
    "    sum_of_ages += age\n",
    "    \n",
    "# calculation lenth of ages\n",
    "count=0\n",
    "for item in ages:\n",
    "    count+=1\n",
    "\n",
    "# Calculate the average age\n",
    "average_age = sum_of_ages / count\n",
    "\n",
    "# Print the average age0\n",
    "print(f\"The average age of the students is: {average_age}\")\n"
   ]
  },
  {
   "cell_type": "code",
   "execution_count": null,
   "id": "3e52c6e2-8ab1-45b5-8ff3-bce1b97dba62",
   "metadata": {},
   "outputs": [],
   "source": []
  },
  {
   "cell_type": "markdown",
   "id": "9be2bef1-7cc9-4916-8410-2bb200722628",
   "metadata": {},
   "source": [
    "# b.\tWrite a python program to create two lists as follows:\n",
    "# fruits = [\"Apple\", \"Mango\", \"Peach\", \"Banana\"]\n",
    "# prices= [100, 80, 150, 70] \n",
    "# Create a single dictionary from above lists such that it stores the names of fruits as keys and prices as its corresponding values."
   ]
  },
  {
   "cell_type": "code",
   "execution_count": 13,
   "id": "708f243b-2647-4977-9b0f-e9faa9c175d3",
   "metadata": {},
   "outputs": [
    {
     "name": "stdout",
     "output_type": "stream",
     "text": [
      "{'Apple': 100, 'Mango': 80, 'Peach': 150, 'Banana': 70}\n"
     ]
    }
   ],
   "source": [
    "fruits = [\"Apple\", \"Mango\", \"Peach\", \"Banana\"]\n",
    "prices = [100, 80, 150, 70]\n",
    "\n",
    "# Create a dictionary using a dictionary comprehension\n",
    "fruit_prices = {fruit: price for fruit, price in zip(fruits, prices)}\n",
    "\n",
    "# Print the resulting dictionary\n",
    "print(fruit_prices)\n"
   ]
  },
  {
   "cell_type": "code",
   "execution_count": 17,
   "id": "648f12fd-b3ca-40ab-8f1d-32e89367aff9",
   "metadata": {},
   "outputs": [
    {
     "name": "stdout",
     "output_type": "stream",
     "text": [
      "{'Apple': 100, 'Mango': 80, 'Peach': 150, 'Banana': 70}\n"
     ]
    }
   ],
   "source": [
    "# creating a list \n",
    "fruits = [\"Apple\", \"Mango\", \"Peach\", \"Banana\"]\n",
    "prices = [100, 80, 150, 70]\n",
    "          \n",
    "# Create a dictionary using a dictionary comprehension\n",
    "fruit_price= {fruits:price for fruits,price in zip(fruits,prices)}   \n",
    "print(fruit_price)"
   ]
  },
  {
   "cell_type": "code",
   "execution_count": null,
   "id": "5ab7d389-7f12-4b27-a02f-9123cadc0523",
   "metadata": {},
   "outputs": [],
   "source": []
  }
 ],
 "metadata": {
  "kernelspec": {
   "display_name": "Python 3 (ipykernel)",
   "language": "python",
   "name": "python3"
  },
  "language_info": {
   "codemirror_mode": {
    "name": "ipython",
    "version": 3
   },
   "file_extension": ".py",
   "mimetype": "text/x-python",
   "name": "python",
   "nbconvert_exporter": "python",
   "pygments_lexer": "ipython3",
   "version": "3.10.8"
  }
 },
 "nbformat": 4,
 "nbformat_minor": 5
}
