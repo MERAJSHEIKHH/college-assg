{
 "cells": [
  {
   "cell_type": "markdown",
   "id": "da11e705-a142-41da-9882-4bd5f7037f80",
   "metadata": {},
   "source": [
    "# Practical 7.\tWrite a program to perform the following operation using pandas library:\n",
    "* a.\tCreate a dataframe with six columns and thirty rows with randomly generated numeric values.\n",
    "* b.\tReplace at least 20 values in the dataframe at randomly generated indexes to null values.\n",
    "* c.\tDetermine the number of missing values in each attribute.\n",
    "* d.\tRemove the rows having more than 70% missing values. \n",
    "* e.\tNormalize the attributes by mapping them to range 0 to 1."
   ]
  },
  {
   "cell_type": "markdown",
   "id": "9bb1c73f-9523-4dbb-b5f0-e4659534edfb",
   "metadata": {},
   "source": [
    "# a.\tCreate a dataframe with six columns and thirty rows with randomly generated numeric values."
   ]
  },
  {
   "cell_type": "code",
   "execution_count": 43,
   "id": "6972bb7a-6f7f-4aba-993d-afcf304bdbad",
   "metadata": {},
   "outputs": [],
   "source": [
    "import pandas as pd \n",
    "import numpy as np "
   ]
  },
  {
   "cell_type": "code",
   "execution_count": 44,
   "id": "a57ad0c8-8bfb-4d10-824a-914fd8a9e154",
   "metadata": {},
   "outputs": [],
   "source": [
    "df=pd.DataFrame(np.random.randint(100,size=(30,6)),columns=list(\"ABCDEF\"))"
   ]
  },
  {
   "cell_type": "code",
   "execution_count": null,
   "id": "c86286be-3779-4466-a263-02195a4c0cf6",
   "metadata": {},
   "outputs": [],
   "source": []
  },
  {
   "cell_type": "markdown",
   "id": "636e6ca8-4a8c-4753-b536-6158cbf10ecd",
   "metadata": {},
   "source": [
    "# b.\tReplace at least 20 values in the dataframe at randomly generated indexes to null values."
   ]
  },
  {
   "cell_type": "code",
   "execution_count": 47,
   "id": "e9318095-2a5b-49be-a4d5-3831e411ada9",
   "metadata": {},
   "outputs": [],
   "source": [
    "random_indices = {\n",
    "    col: np.random.choice(df.index, size=20, replace=False)\n",
    "    for col in df.columns}\n",
    "\n",
    "\n",
    "\n",
    "for col, indices in random_indices.items():\n",
    "    df.loc[indices, col] = np.nan"
   ]
  },
  {
   "cell_type": "code",
   "execution_count": 93,
   "id": "69a3344e-616d-411d-9e93-1cb94d497950",
   "metadata": {},
   "outputs": [
    {
     "data": {
      "text/html": [
       "<div>\n",
       "<style scoped>\n",
       "    .dataframe tbody tr th:only-of-type {\n",
       "        vertical-align: middle;\n",
       "    }\n",
       "\n",
       "    .dataframe tbody tr th {\n",
       "        vertical-align: top;\n",
       "    }\n",
       "\n",
       "    .dataframe thead th {\n",
       "        text-align: right;\n",
       "    }\n",
       "</style>\n",
       "<table border=\"1\" class=\"dataframe\">\n",
       "  <thead>\n",
       "    <tr style=\"text-align: right;\">\n",
       "      <th></th>\n",
       "      <th>A</th>\n",
       "      <th>B</th>\n",
       "      <th>C</th>\n",
       "      <th>D</th>\n",
       "      <th>E</th>\n",
       "      <th>F</th>\n",
       "    </tr>\n",
       "  </thead>\n",
       "  <tbody>\n",
       "    <tr>\n",
       "      <th>0</th>\n",
       "      <td>17.0</td>\n",
       "      <td>99.0</td>\n",
       "      <td>NaN</td>\n",
       "      <td>NaN</td>\n",
       "      <td>NaN</td>\n",
       "      <td>NaN</td>\n",
       "    </tr>\n",
       "    <tr>\n",
       "      <th>1</th>\n",
       "      <td>NaN</td>\n",
       "      <td>41.0</td>\n",
       "      <td>NaN</td>\n",
       "      <td>5.0</td>\n",
       "      <td>51.0</td>\n",
       "      <td>NaN</td>\n",
       "    </tr>\n",
       "    <tr>\n",
       "      <th>2</th>\n",
       "      <td>63.0</td>\n",
       "      <td>NaN</td>\n",
       "      <td>NaN</td>\n",
       "      <td>NaN</td>\n",
       "      <td>NaN</td>\n",
       "      <td>69.0</td>\n",
       "    </tr>\n",
       "    <tr>\n",
       "      <th>3</th>\n",
       "      <td>NaN</td>\n",
       "      <td>52.0</td>\n",
       "      <td>NaN</td>\n",
       "      <td>20.0</td>\n",
       "      <td>NaN</td>\n",
       "      <td>69.0</td>\n",
       "    </tr>\n",
       "    <tr>\n",
       "      <th>4</th>\n",
       "      <td>NaN</td>\n",
       "      <td>NaN</td>\n",
       "      <td>NaN</td>\n",
       "      <td>61.0</td>\n",
       "      <td>NaN</td>\n",
       "      <td>NaN</td>\n",
       "    </tr>\n",
       "  </tbody>\n",
       "</table>\n",
       "</div>"
      ],
      "text/plain": [
       "      A     B   C     D     E     F\n",
       "0  17.0  99.0 NaN   NaN   NaN   NaN\n",
       "1   NaN  41.0 NaN   5.0  51.0   NaN\n",
       "2  63.0   NaN NaN   NaN   NaN  69.0\n",
       "3   NaN  52.0 NaN  20.0   NaN  69.0\n",
       "4   NaN   NaN NaN  61.0   NaN   NaN"
      ]
     },
     "execution_count": 93,
     "metadata": {},
     "output_type": "execute_result"
    }
   ],
   "source": [
    "df.head()"
   ]
  },
  {
   "cell_type": "markdown",
   "id": "1eb73fda-a6bf-4c89-9ecd-57ec6ec0a5f9",
   "metadata": {},
   "source": [
    "# c.\tDetermine the number of missing values in each attribute."
   ]
  },
  {
   "cell_type": "code",
   "execution_count": 54,
   "id": "0d9f5270-dd52-434f-a663-cc58845a2ab9",
   "metadata": {},
   "outputs": [
    {
     "data": {
      "text/plain": [
       "A    20\n",
       "B    20\n",
       "C    20\n",
       "D    20\n",
       "E    20\n",
       "F    20\n",
       "dtype: int64"
      ]
     },
     "execution_count": 54,
     "metadata": {},
     "output_type": "execute_result"
    }
   ],
   "source": [
    "df.isnull().sum()"
   ]
  },
  {
   "cell_type": "code",
   "execution_count": 56,
   "id": "0ccda48b-b853-4772-89e0-748e9e117c6c",
   "metadata": {},
   "outputs": [
    {
     "data": {
      "text/plain": [
       "A    20\n",
       "B    20\n",
       "C    20\n",
       "D    20\n",
       "E    20\n",
       "F    20\n",
       "dtype: int64"
      ]
     },
     "execution_count": 56,
     "metadata": {},
     "output_type": "execute_result"
    }
   ],
   "source": [
    "df.isna().sum()"
   ]
  },
  {
   "cell_type": "markdown",
   "id": "d83edfb6-980f-43d5-aa83-1b4b558096a5",
   "metadata": {},
   "source": [
    "# d.\tRemove the rows having more than 70% missing values. "
   ]
  },
  {
   "cell_type": "code",
   "execution_count": 66,
   "id": "9d4f3607-2e06-4158-ac64-e63e313a87fc",
   "metadata": {},
   "outputs": [],
   "source": [
    "import seaborn as sn \n",
    "\n",
    "df1=sn.load_dataset(\"penguins\")"
   ]
  },
  {
   "cell_type": "code",
   "execution_count": 68,
   "id": "6f37e4d0-6ecc-40bc-a90c-3500ad37caa3",
   "metadata": {},
   "outputs": [
    {
     "name": "stdout",
     "output_type": "stream",
     "text": [
      "<class 'pandas.core.frame.DataFrame'>\n",
      "RangeIndex: 344 entries, 0 to 343\n",
      "Data columns (total 7 columns):\n",
      " #   Column             Non-Null Count  Dtype  \n",
      "---  ------             --------------  -----  \n",
      " 0   species            344 non-null    object \n",
      " 1   island             344 non-null    object \n",
      " 2   bill_length_mm     342 non-null    float64\n",
      " 3   bill_depth_mm      342 non-null    float64\n",
      " 4   flipper_length_mm  342 non-null    float64\n",
      " 5   body_mass_g        342 non-null    float64\n",
      " 6   sex                333 non-null    object \n",
      "dtypes: float64(4), object(3)\n",
      "memory usage: 18.9+ KB\n"
     ]
    }
   ],
   "source": [
    "df1.info()"
   ]
  },
  {
   "cell_type": "code",
   "execution_count": 73,
   "id": "fba9e9b1-de47-410a-baca-a06dddbbfe81",
   "metadata": {},
   "outputs": [
    {
     "name": "stdout",
     "output_type": "stream",
     "text": [
      "DataFrame information after removing rows with more than 70% missing values:\n",
      "<class 'pandas.core.frame.DataFrame'>\n",
      "Int64Index: 342 entries, 0 to 343\n",
      "Data columns (total 7 columns):\n",
      " #   Column             Non-Null Count  Dtype  \n",
      "---  ------             --------------  -----  \n",
      " 0   species            339 non-null    object \n",
      " 1   island             339 non-null    object \n",
      " 2   bill_length_mm     340 non-null    float64\n",
      " 3   bill_depth_mm      337 non-null    float64\n",
      " 4   flipper_length_mm  340 non-null    float64\n",
      " 5   body_mass_g        340 non-null    float64\n",
      " 6   sex                330 non-null    object \n",
      "dtypes: float64(4), object(3)\n",
      "memory usage: 21.4+ KB\n",
      "None\n"
     ]
    }
   ],
   "source": [
    "# Calculate the threshold for 70% missing values\n",
    "threshold = 0.7 * len(penguins.columns)\n",
    "\n",
    "# Remove rows with more than 70% missing values\n",
    "penguins_filtered = penguins.dropna(thresh=threshold)\n",
    "\n",
    "print(\"DataFrame information after removing rows with more than 70% missing values:\")\n",
    "print(penguins_filtered.info())\n",
    "\n"
   ]
  },
  {
   "cell_type": "code",
   "execution_count": null,
   "id": "86772d88-67a1-4731-8476-3fcc669966de",
   "metadata": {},
   "outputs": [],
   "source": []
  },
  {
   "cell_type": "markdown",
   "id": "528f72a0-f0fc-45c2-846f-aa4ba0286b67",
   "metadata": {},
   "source": [
    "# e.\tNormalize the attributes by mapping them to range 0 to 1."
   ]
  },
  {
   "cell_type": "code",
   "execution_count": 87,
   "id": "c316ae88-1132-4d06-bd3c-a28326f5002d",
   "metadata": {},
   "outputs": [],
   "source": [
    "from sklearn.preprocessing import MinMaxScaler\n",
    "\n",
    "\n",
    "scaler = MinMaxScaler()\n",
    "df_normalized = pd.DataFrame(scaler.fit_transform(df), columns=df.columns)"
   ]
  },
  {
   "cell_type": "code",
   "execution_count": 90,
   "id": "4cbf8483-8ddc-4096-b3ba-4352f14fe280",
   "metadata": {},
   "outputs": [
    {
     "data": {
      "text/html": [
       "<div>\n",
       "<style scoped>\n",
       "    .dataframe tbody tr th:only-of-type {\n",
       "        vertical-align: middle;\n",
       "    }\n",
       "\n",
       "    .dataframe tbody tr th {\n",
       "        vertical-align: top;\n",
       "    }\n",
       "\n",
       "    .dataframe thead th {\n",
       "        text-align: right;\n",
       "    }\n",
       "</style>\n",
       "<table border=\"1\" class=\"dataframe\">\n",
       "  <thead>\n",
       "    <tr style=\"text-align: right;\">\n",
       "      <th></th>\n",
       "      <th>A</th>\n",
       "      <th>B</th>\n",
       "      <th>C</th>\n",
       "      <th>D</th>\n",
       "      <th>E</th>\n",
       "      <th>F</th>\n",
       "    </tr>\n",
       "  </thead>\n",
       "  <tbody>\n",
       "    <tr>\n",
       "      <th>0</th>\n",
       "      <td>17.0</td>\n",
       "      <td>99.0</td>\n",
       "      <td>NaN</td>\n",
       "      <td>NaN</td>\n",
       "      <td>NaN</td>\n",
       "      <td>NaN</td>\n",
       "    </tr>\n",
       "    <tr>\n",
       "      <th>1</th>\n",
       "      <td>NaN</td>\n",
       "      <td>41.0</td>\n",
       "      <td>NaN</td>\n",
       "      <td>5.0</td>\n",
       "      <td>51.0</td>\n",
       "      <td>NaN</td>\n",
       "    </tr>\n",
       "    <tr>\n",
       "      <th>2</th>\n",
       "      <td>63.0</td>\n",
       "      <td>NaN</td>\n",
       "      <td>NaN</td>\n",
       "      <td>NaN</td>\n",
       "      <td>NaN</td>\n",
       "      <td>69.0</td>\n",
       "    </tr>\n",
       "    <tr>\n",
       "      <th>3</th>\n",
       "      <td>NaN</td>\n",
       "      <td>52.0</td>\n",
       "      <td>NaN</td>\n",
       "      <td>20.0</td>\n",
       "      <td>NaN</td>\n",
       "      <td>69.0</td>\n",
       "    </tr>\n",
       "    <tr>\n",
       "      <th>4</th>\n",
       "      <td>NaN</td>\n",
       "      <td>NaN</td>\n",
       "      <td>NaN</td>\n",
       "      <td>61.0</td>\n",
       "      <td>NaN</td>\n",
       "      <td>NaN</td>\n",
       "    </tr>\n",
       "  </tbody>\n",
       "</table>\n",
       "</div>"
      ],
      "text/plain": [
       "      A     B   C     D     E     F\n",
       "0  17.0  99.0 NaN   NaN   NaN   NaN\n",
       "1   NaN  41.0 NaN   5.0  51.0   NaN\n",
       "2  63.0   NaN NaN   NaN   NaN  69.0\n",
       "3   NaN  52.0 NaN  20.0   NaN  69.0\n",
       "4   NaN   NaN NaN  61.0   NaN   NaN"
      ]
     },
     "execution_count": 90,
     "metadata": {},
     "output_type": "execute_result"
    }
   ],
   "source": [
    "df.head()"
   ]
  },
  {
   "cell_type": "code",
   "execution_count": 92,
   "id": "af702085-ac14-4ca5-82a1-d1cbae99026f",
   "metadata": {},
   "outputs": [
    {
     "data": {
      "text/html": [
       "<div>\n",
       "<style scoped>\n",
       "    .dataframe tbody tr th:only-of-type {\n",
       "        vertical-align: middle;\n",
       "    }\n",
       "\n",
       "    .dataframe tbody tr th {\n",
       "        vertical-align: top;\n",
       "    }\n",
       "\n",
       "    .dataframe thead th {\n",
       "        text-align: right;\n",
       "    }\n",
       "</style>\n",
       "<table border=\"1\" class=\"dataframe\">\n",
       "  <thead>\n",
       "    <tr style=\"text-align: right;\">\n",
       "      <th></th>\n",
       "      <th>A</th>\n",
       "      <th>B</th>\n",
       "      <th>C</th>\n",
       "      <th>D</th>\n",
       "      <th>E</th>\n",
       "      <th>F</th>\n",
       "    </tr>\n",
       "  </thead>\n",
       "  <tbody>\n",
       "    <tr>\n",
       "      <th>0</th>\n",
       "      <td>0.164557</td>\n",
       "      <td>1.000000</td>\n",
       "      <td>NaN</td>\n",
       "      <td>NaN</td>\n",
       "      <td>NaN</td>\n",
       "      <td>NaN</td>\n",
       "    </tr>\n",
       "    <tr>\n",
       "      <th>1</th>\n",
       "      <td>NaN</td>\n",
       "      <td>0.408163</td>\n",
       "      <td>NaN</td>\n",
       "      <td>0.000000</td>\n",
       "      <td>0.69697</td>\n",
       "      <td>NaN</td>\n",
       "    </tr>\n",
       "    <tr>\n",
       "      <th>2</th>\n",
       "      <td>0.746835</td>\n",
       "      <td>NaN</td>\n",
       "      <td>NaN</td>\n",
       "      <td>NaN</td>\n",
       "      <td>NaN</td>\n",
       "      <td>0.655172</td>\n",
       "    </tr>\n",
       "    <tr>\n",
       "      <th>3</th>\n",
       "      <td>NaN</td>\n",
       "      <td>0.520408</td>\n",
       "      <td>NaN</td>\n",
       "      <td>0.172414</td>\n",
       "      <td>NaN</td>\n",
       "      <td>0.655172</td>\n",
       "    </tr>\n",
       "    <tr>\n",
       "      <th>4</th>\n",
       "      <td>NaN</td>\n",
       "      <td>NaN</td>\n",
       "      <td>NaN</td>\n",
       "      <td>0.643678</td>\n",
       "      <td>NaN</td>\n",
       "      <td>NaN</td>\n",
       "    </tr>\n",
       "  </tbody>\n",
       "</table>\n",
       "</div>"
      ],
      "text/plain": [
       "          A         B   C         D        E         F\n",
       "0  0.164557  1.000000 NaN       NaN      NaN       NaN\n",
       "1       NaN  0.408163 NaN  0.000000  0.69697       NaN\n",
       "2  0.746835       NaN NaN       NaN      NaN  0.655172\n",
       "3       NaN  0.520408 NaN  0.172414      NaN  0.655172\n",
       "4       NaN       NaN NaN  0.643678      NaN       NaN"
      ]
     },
     "execution_count": 92,
     "metadata": {},
     "output_type": "execute_result"
    }
   ],
   "source": [
    "df_normalized.head()\n"
   ]
  }
 ],
 "metadata": {
  "kernelspec": {
   "display_name": "Python 3 (ipykernel)",
   "language": "python",
   "name": "python3"
  },
  "language_info": {
   "codemirror_mode": {
    "name": "ipython",
    "version": 3
   },
   "file_extension": ".py",
   "mimetype": "text/x-python",
   "name": "python",
   "nbconvert_exporter": "python",
   "pygments_lexer": "ipython3",
   "version": "3.10.8"
  }
 },
 "nbformat": 4,
 "nbformat_minor": 5
}
