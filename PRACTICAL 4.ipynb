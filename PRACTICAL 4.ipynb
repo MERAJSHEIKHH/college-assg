{
 "cells": [
  {
   "cell_type": "code",
   "execution_count": 1,
   "id": "0c7a3a30-5e62-4713-ac4d-ebe74974af35",
   "metadata": {},
   "outputs": [
    {
     "ename": "NameError",
     "evalue": "name 'cursor' is not defined",
     "output_type": "error",
     "traceback": [
      "\u001b[0;31m---------------------------------------------------------------------------\u001b[0m",
      "\u001b[0;31mNameError\u001b[0m                                 Traceback (most recent call last)",
      "Cell \u001b[0;32mIn[1], line 4\u001b[0m\n\u001b[1;32m      1\u001b[0m \u001b[38;5;28;01mimport\u001b[39;00m \u001b[38;5;21;01msqlite3\u001b[39;00m\n\u001b[1;32m      3\u001b[0m \u001b[38;5;66;03m# Delete all existing data from the table STUDENT\u001b[39;00m\n\u001b[0;32m----> 4\u001b[0m \u001b[43mcursor\u001b[49m\u001b[38;5;241m.\u001b[39mexecute(\u001b[38;5;124m'\u001b[39m\u001b[38;5;124mDELETE FROM STUDENT\u001b[39m\u001b[38;5;124m'\u001b[39m)\n\u001b[1;32m      6\u001b[0m \u001b[38;5;66;03m# Create a connection with the database College.db\u001b[39;00m\n\u001b[1;32m      7\u001b[0m connection \u001b[38;5;241m=\u001b[39m sqlite3\u001b[38;5;241m.\u001b[39mconnect(\u001b[38;5;124m'\u001b[39m\u001b[38;5;124mCollege.db\u001b[39m\u001b[38;5;124m'\u001b[39m)\n",
      "\u001b[0;31mNameError\u001b[0m: name 'cursor' is not defined"
     ]
    }
   ],
   "source": [
    "import sqlite3\n",
    "\n",
    "# Delete all existing data from the table STUDENT\n",
    "cursor.execute('DELETE FROM STUDENT')\n",
    "\n",
    "# Create a connection with the database College.db\n",
    "connection = sqlite3.connect('College.db')\n",
    "\n",
    "# Create a cursor object\n",
    "cursor = connection.cursor()\n",
    "\n",
    "# Create a table STUDENT\n",
    "cursor.execute('''\n",
    "CREATE TABLE IF NOT EXISTS STUDENT(\n",
    "    rollNumber INTEGER PRIMARY KEY,\n",
    "    studName TEXT,\n",
    "    class TEXT)\n",
    "''')\n",
    "\n",
    "# Insert rows into the table STUDENT\n",
    "cursor.execute('''\n",
    "INSERT INTO STUDENT(rollNumber, studName, class) VALUES(1, 'Alice', 'CS')\n",
    "''')\n",
    "\n",
    "cursor.execute('''\n",
    "INSERT INTO STUDENT(rollNumber, studName, class) VALUES(2, 'Bob', 'IT')\n",
    "''')\n",
    "\n",
    "cursor.execute('''\n",
    "INSERT INTO STUDENT(rollNumber, studName, class) VALUES(3, 'Charlie', 'ME')\n",
    "''')\n",
    "\n",
    "cursor.execute('''\n",
    "INSERT INTO STUDENT(rollNumber, studName, class) VALUES(4, 'David', 'CE')\n",
    "''')\n",
    "\n",
    "# Commit the transaction\n",
    "connection.commit()\n",
    "\n",
    "# Execute a SELECT statement to fetch all rows from the table STUDENT\n",
    "cursor.execute('SELECT * FROM STUDENT')\n",
    "\n",
    "# Fetch all rows from the table STUDENT\n",
    "students = cursor.fetchall()\n",
    "\n",
    "# Print each row\n",
    "for student in students:\n",
    "    print(student)\n",
    "\n",
    "# Close the connection\n",
    "connection.close()"
   ]
  },
  {
   "cell_type": "code",
   "execution_count": 6,
   "id": "bcf9395a-7486-4c6e-835a-0705ed7eb3b9",
   "metadata": {},
   "outputs": [
    {
     "ename": "IntegrityError",
     "evalue": "UNIQUE constraint failed: STUDENT.rollNumber",
     "output_type": "error",
     "traceback": [
      "\u001b[0;31m---------------------------------------------------------------------------\u001b[0m",
      "\u001b[0;31mIntegrityError\u001b[0m                            Traceback (most recent call last)",
      "Cell \u001b[0;32mIn[6], line 18\u001b[0m\n\u001b[1;32m     10\u001b[0m cursor\u001b[38;5;241m.\u001b[39mexecute(\u001b[38;5;124m'''\u001b[39m\n\u001b[1;32m     11\u001b[0m \u001b[38;5;124mCREATE TABLE IF NOT EXISTS STUDENT(\u001b[39m\n\u001b[1;32m     12\u001b[0m \u001b[38;5;124m    rollNumber INTEGER PRIMARY KEY,\u001b[39m\n\u001b[1;32m     13\u001b[0m \u001b[38;5;124m    studName TEXT,\u001b[39m\n\u001b[1;32m     14\u001b[0m \u001b[38;5;124m    class TEXT)\u001b[39m\n\u001b[1;32m     15\u001b[0m \u001b[38;5;124m'''\u001b[39m)\n\u001b[1;32m     17\u001b[0m \u001b[38;5;66;03m# Insert rows into the table STUDENT\u001b[39;00m\n\u001b[0;32m---> 18\u001b[0m \u001b[43mcursor\u001b[49m\u001b[38;5;241;43m.\u001b[39;49m\u001b[43mexecute\u001b[49m\u001b[43m(\u001b[49m\u001b[38;5;124;43m'''\u001b[39;49m\n\u001b[1;32m     19\u001b[0m \u001b[38;5;124;43mINSERT INTO STUDENT(rollNumber, studName, class) VALUES(1, \u001b[39;49m\u001b[38;5;124;43m'\u001b[39;49m\u001b[38;5;124;43mAlice\u001b[39;49m\u001b[38;5;124;43m'\u001b[39;49m\u001b[38;5;124;43m, \u001b[39;49m\u001b[38;5;124;43m'\u001b[39;49m\u001b[38;5;124;43mCS\u001b[39;49m\u001b[38;5;124;43m'\u001b[39;49m\u001b[38;5;124;43m)\u001b[39;49m\n\u001b[1;32m     20\u001b[0m \u001b[38;5;124;43m'''\u001b[39;49m\u001b[43m)\u001b[49m\n\u001b[1;32m     22\u001b[0m cursor\u001b[38;5;241m.\u001b[39mexecute(\u001b[38;5;124m'''\u001b[39m\n\u001b[1;32m     23\u001b[0m \u001b[38;5;124mINSERT INTO STUDENT(rollNumber, studName, class) VALUES(2, \u001b[39m\u001b[38;5;124m'\u001b[39m\u001b[38;5;124mBob\u001b[39m\u001b[38;5;124m'\u001b[39m\u001b[38;5;124m, \u001b[39m\u001b[38;5;124m'\u001b[39m\u001b[38;5;124mIT\u001b[39m\u001b[38;5;124m'\u001b[39m\u001b[38;5;124m)\u001b[39m\n\u001b[1;32m     24\u001b[0m \u001b[38;5;124m'''\u001b[39m)\n\u001b[1;32m     26\u001b[0m cursor\u001b[38;5;241m.\u001b[39mexecute(\u001b[38;5;124m'''\u001b[39m\n\u001b[1;32m     27\u001b[0m \u001b[38;5;124mINSERT INTO STUDENT(rollNumber, studName, class) VALUES(3, \u001b[39m\u001b[38;5;124m'\u001b[39m\u001b[38;5;124mCharlie\u001b[39m\u001b[38;5;124m'\u001b[39m\u001b[38;5;124m, \u001b[39m\u001b[38;5;124m'\u001b[39m\u001b[38;5;124mME\u001b[39m\u001b[38;5;124m'\u001b[39m\u001b[38;5;124m)\u001b[39m\n\u001b[1;32m     28\u001b[0m \u001b[38;5;124m'''\u001b[39m)\n",
      "\u001b[0;31mIntegrityError\u001b[0m: UNIQUE constraint failed: STUDENT.rollNumber"
     ]
    }
   ],
   "source": [
    "import sqlite3\n",
    "\n",
    "# Create a connection with the database College.db\n",
    "connection = sqlite3.connect('College.db')\n",
    "\n",
    "# Create a cursor object\n",
    "cursor = connection.cursor()\n",
    "\n",
    "# Create a table STUDENT\n",
    "cursor.execute('''\n",
    "CREATE TABLE IF NOT EXISTS STUDENT(\n",
    "    rollNumber INTEGER PRIMARY KEY,\n",
    "    studName TEXT,\n",
    "    class TEXT)\n",
    "''')\n",
    "\n",
    "# Insert rows into the table STUDENT\n",
    "cursor.execute('''\n",
    "INSERT INTO STUDENT(rollNumber, studName, class) VALUES(1, 'Alice', 'CS')\n",
    "''')\n",
    "\n",
    "cursor.execute('''\n",
    "INSERT INTO STUDENT(rollNumber, studName, class) VALUES(2, 'Bob', 'IT')\n",
    "''')\n",
    "\n",
    "cursor.execute('''\n",
    "INSERT INTO STUDENT(rollNumber, studName, class) VALUES(3, 'Charlie', 'ME')\n",
    "''')\n",
    "\n",
    "cursor.execute('''\n",
    "INSERT INTO STUDENT(rollNumber, studName, class) VALUES(4, 'David', 'CE')\n",
    "''')\n",
    "\n",
    "# Commit the transaction\n",
    "connection.commit()\n",
    "\n",
    "# Execute a SELECT statement to fetch all rows from the table STUDENT\n",
    "cursor.execute('SELECT * FROM STUDENT')\n",
    "\n",
    "# Fetch all rows from the table STUDENT\n",
    "students = cursor.fetchall()\n",
    "\n",
    "# Print each row\n",
    "for student in students:\n",
    "    print(student)\n",
    "\n",
    "# Close the connection\n",
    "connection.close()\n"
   ]
  },
  {
   "cell_type": "code",
   "execution_count": null,
   "id": "d1bed6ec-6df5-46d2-88c8-2f2bacb12e88",
   "metadata": {},
   "outputs": [],
   "source": []
  },
  {
   "cell_type": "code",
   "execution_count": null,
   "id": "c3618c51-89be-4833-ba0e-e5b37009683c",
   "metadata": {},
   "outputs": [],
   "source": []
  }
 ],
 "metadata": {
  "kernelspec": {
   "display_name": "Python 3 (ipykernel)",
   "language": "python",
   "name": "python3"
  },
  "language_info": {
   "codemirror_mode": {
    "name": "ipython",
    "version": 3
   },
   "file_extension": ".py",
   "mimetype": "text/x-python",
   "name": "python",
   "nbconvert_exporter": "python",
   "pygments_lexer": "ipython3",
   "version": "3.10.8"
  }
 },
 "nbformat": 4,
 "nbformat_minor": 5
}
