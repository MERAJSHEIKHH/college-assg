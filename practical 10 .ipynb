{
 "cells": [
  {
   "cell_type": "markdown",
   "id": "636b4183-da96-43e5-a185-845e0bb94548",
   "metadata": {},
   "source": [
    "# Practical 10:\tWrite a program to predict species - Adelie, Gentoo, and Chinstrap of the penguins dataset of seaborn library using logistic regression method. Make the prediction based on features, namely, bill_length_mm, bill_depth_mm, flipper_length_mm, and body_mass_g. Apply regularization to avoid overfitting. Use the predefined class LogisticRegression defined in the sklearn library"
   ]
  },
  {
   "cell_type": "code",
   "execution_count": 3,
   "id": "88915f22-62d6-4742-ae2b-428a55a34153",
   "metadata": {},
   "outputs": [
    {
     "name": "stdout",
     "output_type": "stream",
     "text": [
      "Accuracy: 0.97\n",
      "\n",
      "Classification Report:\n",
      "              precision    recall  f1-score   support\n",
      "\n",
      "      Adelie       0.97      0.97      0.97        32\n",
      "   Chinstrap       0.94      0.94      0.94        16\n",
      "      Gentoo       1.00      1.00      1.00        21\n",
      "\n",
      "    accuracy                           0.97        69\n",
      "   macro avg       0.97      0.97      0.97        69\n",
      "weighted avg       0.97      0.97      0.97        69\n",
      "\n"
     ]
    }
   ],
   "source": [
    "import seaborn as sns\n",
    "from sklearn.model_selection import train_test_split\n",
    "from sklearn.impute import SimpleImputer\n",
    "from sklearn.preprocessing import StandardScaler\n",
    "from sklearn.linear_model import LogisticRegression\n",
    "from sklearn.metrics import accuracy_score, classification_report\n",
    "\n",
    "\n",
    "penguins = sns.load_dataset(\"penguins\")\n",
    "\n",
    "\n",
    "features = ['bill_length_mm', 'bill_depth_mm', 'flipper_length_mm', 'body_mass_g']\n",
    "target = 'species'\n",
    "\n",
    "X = penguins[features]\n",
    "y = penguins[target]\n",
    "\n",
    "# Handle missing values using imputation\n",
    "imputer = SimpleImputer(strategy='mean')\n",
    "X_imputed = imputer.fit_transform(X)\n",
    "\n",
    "# Split the dataset into training and testing sets\n",
    "\n",
    "X_train, X_test, y_train, y_test = train_test_split(X_imputed, y, test_size=0.2, random_state=42)\n",
    "\n",
    "# Standardize the features\n",
    "scaler = StandardScaler()\n",
    "X_train_scaled = scaler.fit_transform(X_train)\n",
    "X_test_scaled = scaler.transform(X_test)\n",
    "\n",
    "# Create a Logistic Regression model with regularization (L2 penalty)\n",
    "model = LogisticRegression(penalty='l2', random_state=42, max_iter=1000)\n",
    "\n",
    "# Train the model\n",
    "model.fit(X_train_scaled, y_train)\n",
    "\n",
    "# Make predictions on the test set\n",
    "y_pred = model.predict(X_test_scaled)\n",
    "\n",
    "# Evaluate the model\n",
    "accuracy = accuracy_score(y_test, y_pred)\n",
    "print(f\"Accuracy: {accuracy:.2f}\")\n",
    "\n",
    "print(\"\\nClassification Report:\")\n",
    "print(classification_report(y_test, y_pred))\n"
   ]
  },
  {
   "cell_type": "code",
   "execution_count": null,
   "id": "819daec0-9a0e-48c6-9efd-3b49ce0e6809",
   "metadata": {},
   "outputs": [],
   "source": []
  }
 ],
 "metadata": {
  "kernelspec": {
   "display_name": "Python 3 (ipykernel)",
   "language": "python",
   "name": "python3"
  },
  "language_info": {
   "codemirror_mode": {
    "name": "ipython",
    "version": 3
   },
   "file_extension": ".py",
   "mimetype": "text/x-python",
   "name": "python",
   "nbconvert_exporter": "python",
   "pygments_lexer": "ipython3",
   "version": "3.10.8"
  }
 },
 "nbformat": 4,
 "nbformat_minor": 5
}
